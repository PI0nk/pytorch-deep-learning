{
  "cells": [
    {
      "cell_type": "markdown",
      "metadata": {
        "colab_type": "text",
        "id": "view-in-github"
      },
      "source": [
        "<a href=\"https://colab.research.google.com/github/mrdbourke/pytorch-deep-learning/blob/main/extras/exercises/01_pytorch_workflow_exercises.ipynb\" target=\"_parent\"><img src=\"https://colab.research.google.com/assets/colab-badge.svg\" alt=\"Open In Colab\"/></a>"
      ]
    },
    {
      "cell_type": "markdown",
      "metadata": {
        "id": "N8LsPXZti9Sw"
      },
      "source": [
        "# 01. PyTorch Workflow Exercise Template\n",
        "\n",
        "The following is a template for the PyTorch workflow exercises.\n",
        "\n",
        "It's only starter code and it's your job to fill in the blanks.\n",
        "\n",
        "Because of the flexibility of PyTorch, there may be more than one way to answer the question.\n",
        "\n",
        "Don't worry about trying to be *right* just try writing code that suffices the question.\n",
        "\n",
        "You can see one form of [solutions on GitHub](https://github.com/mrdbourke/pytorch-deep-learning/tree/main/extras/solutions) (but try the exercises below yourself first!)."
      ]
    },
    {
      "cell_type": "code",
      "execution_count": 1,
      "metadata": {
        "id": "Glu2fM4dkNlx"
      },
      "outputs": [],
      "source": [
        "# Import necessary libraries\n",
        "import torch\n",
        "from torch import nn\n",
        "import numpy as np\n",
        "import matplotlib.pyplot as plt"
      ]
    },
    {
      "cell_type": "code",
      "execution_count": 2,
      "metadata": {
        "id": "LqKhXY26m31s"
      },
      "outputs": [],
      "source": [
        "# Setup device-agnostic code\n",
        "device = \"cuda\" if torch.cuda.is_available() else \"cpu\""
      ]
    },
    {
      "cell_type": "markdown",
      "metadata": {
        "id": "g7HUhxCxjeBx"
      },
      "source": [
        "## 1. Create a straight line dataset using the linear regression formula (`weight * X + bias`).\n",
        "  * Set `weight=0.3` and `bias=0.9` there should be at least 100 datapoints total. \n",
        "  * Split the data into 80% training, 20% testing.\n",
        "  * Plot the training and testing data so it becomes visual.\n",
        "\n",
        "Your output of the below cell should look something like:\n",
        "```\n",
        "Number of X samples: 100\n",
        "Number of y samples: 100\n",
        "First 10 X & y samples:\n",
        "X: tensor([0.0000, 0.0100, 0.0200, 0.0300, 0.0400, 0.0500, 0.0600, 0.0700, 0.0800,\n",
        "        0.0900])\n",
        "y: tensor([0.9000, 0.9030, 0.9060, 0.9090, 0.9120, 0.9150, 0.9180, 0.9210, 0.9240,\n",
        "        0.9270])\n",
        "```\n",
        "\n",
        "Of course the numbers in `X` and `y` may be different but ideally they're created using the linear regression formula."
      ]
    },
    {
      "cell_type": "code",
      "execution_count": 3,
      "metadata": {
        "id": "KbDG5MV7jhvE"
      },
      "outputs": [
        {
          "name": "stdout",
          "output_type": "stream",
          "text": [
            "Number of X samples: 100\n",
            "Number of y samples: 100\n",
            "First 10 X & y samples:\n",
            "X: tensor([0.0000, 0.0100, 0.0200, 0.0300, 0.0400, 0.0500, 0.0600, 0.0700, 0.0800,\n",
            "        0.0900])\n",
            "y: tensor([0.9000, 0.9030, 0.9060, 0.9090, 0.9120, 0.9150, 0.9180, 0.9210, 0.9240,\n",
            "        0.9270])\n"
          ]
        }
      ],
      "source": [
        "# Create the data parameters\n",
        "weight = 0.3\n",
        "bias = 0.9\n",
        "N_samples = 100\n",
        "\n",
        "# Make X and y using linear regression feature\n",
        "X = torch.arange(0, 1, 1/100)\n",
        "y = weight * X + bias\n",
        "\n",
        "print(f\"Number of X samples: {len(X)}\")\n",
        "print(f\"Number of y samples: {len(y)}\")\n",
        "print(f\"First 10 X & y samples:\\nX: {X[:10]}\\ny: {y[:10]}\")"
      ]
    },
    {
      "cell_type": "code",
      "execution_count": 4,
      "metadata": {
        "id": "GlwtT1djkmLw"
      },
      "outputs": [],
      "source": [
        "# Split the data into training and testing\n",
        "# 80% Training 20% testing\n",
        "split = int(len(X) * 0.8)\n",
        "\n",
        "X_train, y_train = X[:split], y[:split]\n",
        "X_test, y_test = X[split:], y[split:]"
      ]
    },
    {
      "cell_type": "code",
      "execution_count": 5,
      "metadata": {
        "id": "29iQZFNhlYJ-"
      },
      "outputs": [],
      "source": [
        "def plot_preds(train_data = X_train,\n",
        "               train_labels = y_train,\n",
        "               test_data = X_test,\n",
        "               test_labels = y_test,\n",
        "               predictions = None):\n",
        "    # Plot the training and testing data \n",
        "    plt.figure(figsize=(8,8))\n",
        "\n",
        "    plt.scatter(X_train, y_train, marker=\".\",c=\"r\", label = \"Training\")\n",
        "\n",
        "    plt.scatter(X_test, y_test, marker=\".\", c=\"g\", label=\"Test\")\n",
        "\n",
        "    if predictions is not None:\n",
        "        plt.scatter(test_data, predictions, marker=\".\", c=\"b\", label=\"Predictions\")\n",
        "        \n",
        "    plt.xlabel(\"X\")\n",
        "    plt.ylabel(\"y\")\n",
        "    plt.legend(prop = {\"size\": 20})"
      ]
    },
    {
      "cell_type": "code",
      "execution_count": 6,
      "metadata": {},
      "outputs": [
        {
          "data": {
            "image/png": "[encoded data removed]",
            "text/plain": [
              "<Figure size 800x800 with 1 Axes>"
            ]
          },
          "metadata": {},
          "output_type": "display_data"
        }
      ],
      "source": [
        "plot_preds();"
      ]
    },
    {
      "cell_type": "markdown",
      "metadata": {
        "id": "ImZoe3v8jif8"
      },
      "source": [
        "## 2. Build a PyTorch model by subclassing `nn.Module`. \n",
        "  * Inside should be a randomly initialized `nn.Parameter()` with `requires_grad=True`, one for `weights` and one for `bias`. \n",
        "  * Implement the `forward()` method to compute the linear regression function you used to create the dataset in 1. \n",
        "  * Once you've constructed the model, make an instance of it and check its `state_dict()`.\n",
        "  * **Note:** If you'd like to use `nn.Linear()` instead of `nn.Parameter()` you can."
      ]
    },
    {
      "cell_type": "code",
      "execution_count": 7,
      "metadata": {
        "id": "qzd__Y5rjtB8"
      },
      "outputs": [],
      "source": [
        "# Create PyTorch linear regression model by subclassing nn.Module\n",
        "class LinearRegressionModel(nn.Module):\n",
        "    def __init__(self):\n",
        "        super().__init__()\n",
        "        self.weights = nn.Parameter(torch.randn(1))#, requires_grad=True)\n",
        "        self.bias = nn.Parameter(torch.randn(1))#, requires_grad=True)\n",
        "\n",
        "    def forward(self, x:torch.Tensor) -> torch.Tensor:\n",
        "        return self.weights * x + self.bias\n"
      ]
    },
    {
      "cell_type": "code",
      "execution_count": 8,
      "metadata": {
        "id": "5LdcDnmOmyQ2"
      },
      "outputs": [
        {
          "data": {
            "text/plain": [
              "[Parameter containing:\n",
              " tensor([0.3367], requires_grad=True),\n",
              " Parameter containing:\n",
              " tensor([0.1288], requires_grad=True)]"
            ]
          },
          "execution_count": 8,
          "metadata": {},
          "output_type": "execute_result"
        }
      ],
      "source": [
        "# Instantiate the model and put it to the target device\n",
        "torch.manual_seed(42)\n",
        "\n",
        "LR_module_1 = LinearRegressionModel()\n",
        "\n",
        "list(LR_module_1.parameters())"
      ]
    },
    {
      "cell_type": "code",
      "execution_count": 9,
      "metadata": {},
      "outputs": [
        {
          "data": {
            "text/plain": [
              "device(type='cpu')"
            ]
          },
          "execution_count": 9,
          "metadata": {},
          "output_type": "execute_result"
        }
      ],
      "source": [
        "LR_module_1.to(device)\n",
        "next(LR_module_1.parameters()).device"
      ]
    },
    {
      "cell_type": "markdown",
      "metadata": {
        "id": "G6nYOrJhjtfu"
      },
      "source": [
        "## 3. Create a loss function and optimizer using `nn.L1Loss()` and `torch.optim.SGD(params, lr)` respectively. \n",
        "  * Set the learning rate of the optimizer to be 0.01 and the parameters to optimize should be the model parameters from the model you created in 2.\n",
        "  * Write a training loop to perform the appropriate training steps for 300 epochs.\n",
        "  * The training loop should test the model on the test dataset every 20 epochs."
      ]
    },
    {
      "cell_type": "code",
      "execution_count": 10,
      "metadata": {
        "id": "ltvoZ-FWjv1j"
      },
      "outputs": [],
      "source": [
        "# Create the loss function and optimizer\n",
        "loss_f = nn.L1Loss()\n",
        "\n",
        "opt = torch.optim.SGD(params=LR_module_1.parameters(),\n",
        "                      lr=0.001)"
      ]
    },
    {
      "cell_type": "code",
      "execution_count": 11,
      "metadata": {
        "id": "xpE83NvNnkdV"
      },
      "outputs": [
        {
          "name": "stdout",
          "output_type": "stream",
          "text": [
            "Epoch: 0 | Train loss: 0.757 | Test loss: 0.737\n",
            "Epoch: 20 | Train loss: 0.734 | Test loss: 0.710\n",
            "Epoch: 40 | Train loss: 0.710 | Test loss: 0.683\n",
            "Epoch: 60 | Train loss: 0.687 | Test loss: 0.656\n",
            "Epoch: 80 | Train loss: 0.664 | Test loss: 0.629\n",
            "Epoch: 100 | Train loss: 0.641 | Test loss: 0.602\n",
            "Epoch: 120 | Train loss: 0.618 | Test loss: 0.575\n",
            "Epoch: 140 | Train loss: 0.595 | Test loss: 0.548\n",
            "Epoch: 160 | Train loss: 0.572 | Test loss: 0.520\n",
            "Epoch: 180 | Train loss: 0.549 | Test loss: 0.493\n",
            "Epoch: 200 | Train loss: 0.525 | Test loss: 0.466\n",
            "Epoch: 220 | Train loss: 0.502 | Test loss: 0.439\n",
            "Epoch: 240 | Train loss: 0.479 | Test loss: 0.412\n",
            "Epoch: 260 | Train loss: 0.456 | Test loss: 0.385\n",
            "Epoch: 280 | Train loss: 0.433 | Test loss: 0.358\n",
            "Epoch: 300 | Train loss: 0.410 | Test loss: 0.331\n",
            "Epoch: 320 | Train loss: 0.387 | Test loss: 0.304\n",
            "Epoch: 340 | Train loss: 0.364 | Test loss: 0.277\n",
            "Epoch: 360 | Train loss: 0.341 | Test loss: 0.250\n",
            "Epoch: 380 | Train loss: 0.317 | Test loss: 0.223\n",
            "Epoch: 400 | Train loss: 0.294 | Test loss: 0.196\n",
            "Epoch: 420 | Train loss: 0.271 | Test loss: 0.169\n",
            "Epoch: 440 | Train loss: 0.248 | Test loss: 0.141\n",
            "Epoch: 460 | Train loss: 0.225 | Test loss: 0.114\n",
            "Epoch: 480 | Train loss: 0.202 | Test loss: 0.087\n",
            "Epoch: 500 | Train loss: 0.179 | Test loss: 0.060\n",
            "Epoch: 520 | Train loss: 0.156 | Test loss: 0.033\n",
            "Epoch: 540 | Train loss: 0.132 | Test loss: 0.013\n",
            "Epoch: 560 | Train loss: 0.109 | Test loss: 0.021\n",
            "Epoch: 580 | Train loss: 0.089 | Test loss: 0.046\n",
            "Epoch: 600 | Train loss: 0.077 | Test loss: 0.064\n",
            "Epoch: 620 | Train loss: 0.070 | Test loss: 0.078\n",
            "Epoch: 640 | Train loss: 0.065 | Test loss: 0.088\n",
            "Epoch: 660 | Train loss: 0.062 | Test loss: 0.096\n",
            "Epoch: 680 | Train loss: 0.059 | Test loss: 0.102\n",
            "Epoch: 700 | Train loss: 0.058 | Test loss: 0.107\n",
            "Epoch: 720 | Train loss: 0.056 | Test loss: 0.110\n",
            "Epoch: 740 | Train loss: 0.055 | Test loss: 0.112\n",
            "Epoch: 760 | Train loss: 0.054 | Test loss: 0.113\n",
            "Epoch: 780 | Train loss: 0.053 | Test loss: 0.114\n",
            "Epoch: 800 | Train loss: 0.053 | Test loss: 0.115\n",
            "Epoch: 820 | Train loss: 0.052 | Test loss: 0.115\n",
            "Epoch: 840 | Train loss: 0.051 | Test loss: 0.115\n",
            "Epoch: 860 | Train loss: 0.050 | Test loss: 0.114\n",
            "Epoch: 880 | Train loss: 0.050 | Test loss: 0.113\n",
            "Epoch: 900 | Train loss: 0.049 | Test loss: 0.112\n",
            "Epoch: 920 | Train loss: 0.048 | Test loss: 0.111\n",
            "Epoch: 940 | Train loss: 0.048 | Test loss: 0.110\n",
            "Epoch: 960 | Train loss: 0.047 | Test loss: 0.108\n",
            "Epoch: 980 | Train loss: 0.046 | Test loss: 0.107\n",
            "Epoch: 1000 | Train loss: 0.045 | Test loss: 0.105\n",
            "Epoch: 1020 | Train loss: 0.045 | Test loss: 0.104\n",
            "Epoch: 1040 | Train loss: 0.044 | Test loss: 0.102\n",
            "Epoch: 1060 | Train loss: 0.043 | Test loss: 0.101\n",
            "Epoch: 1080 | Train loss: 0.043 | Test loss: 0.099\n",
            "Epoch: 1100 | Train loss: 0.042 | Test loss: 0.097\n",
            "Epoch: 1120 | Train loss: 0.041 | Test loss: 0.096\n",
            "Epoch: 1140 | Train loss: 0.041 | Test loss: 0.094\n",
            "Epoch: 1160 | Train loss: 0.040 | Test loss: 0.093\n",
            "Epoch: 1180 | Train loss: 0.039 | Test loss: 0.091\n",
            "Epoch: 1200 | Train loss: 0.039 | Test loss: 0.090\n",
            "Epoch: 1220 | Train loss: 0.038 | Test loss: 0.088\n",
            "Epoch: 1240 | Train loss: 0.037 | Test loss: 0.087\n",
            "Epoch: 1260 | Train loss: 0.037 | Test loss: 0.085\n",
            "Epoch: 1280 | Train loss: 0.036 | Test loss: 0.084\n",
            "Epoch: 1300 | Train loss: 0.035 | Test loss: 0.082\n",
            "Epoch: 1320 | Train loss: 0.035 | Test loss: 0.081\n",
            "Epoch: 1340 | Train loss: 0.034 | Test loss: 0.079\n",
            "Epoch: 1360 | Train loss: 0.033 | Test loss: 0.078\n",
            "Epoch: 1380 | Train loss: 0.032 | Test loss: 0.076\n",
            "Epoch: 1400 | Train loss: 0.032 | Test loss: 0.075\n",
            "Epoch: 1420 | Train loss: 0.031 | Test loss: 0.073\n",
            "Epoch: 1440 | Train loss: 0.030 | Test loss: 0.071\n",
            "Epoch: 1460 | Train loss: 0.030 | Test loss: 0.070\n",
            "Epoch: 1480 | Train loss: 0.029 | Test loss: 0.068\n",
            "Epoch: 1500 | Train loss: 0.028 | Test loss: 0.067\n",
            "Epoch: 1520 | Train loss: 0.028 | Test loss: 0.065\n",
            "Epoch: 1540 | Train loss: 0.027 | Test loss: 0.064\n",
            "Epoch: 1560 | Train loss: 0.026 | Test loss: 0.062\n",
            "Epoch: 1580 | Train loss: 0.026 | Test loss: 0.061\n",
            "Epoch: 1600 | Train loss: 0.025 | Test loss: 0.059\n",
            "Epoch: 1620 | Train loss: 0.024 | Test loss: 0.057\n",
            "Epoch: 1640 | Train loss: 0.024 | Test loss: 0.056\n",
            "Epoch: 1660 | Train loss: 0.023 | Test loss: 0.054\n",
            "Epoch: 1680 | Train loss: 0.022 | Test loss: 0.052\n",
            "Epoch: 1700 | Train loss: 0.021 | Test loss: 0.051\n",
            "Epoch: 1720 | Train loss: 0.021 | Test loss: 0.049\n",
            "Epoch: 1740 | Train loss: 0.020 | Test loss: 0.048\n",
            "Epoch: 1760 | Train loss: 0.019 | Test loss: 0.046\n",
            "Epoch: 1780 | Train loss: 0.019 | Test loss: 0.044\n",
            "Epoch: 1800 | Train loss: 0.018 | Test loss: 0.043\n",
            "Epoch: 1820 | Train loss: 0.017 | Test loss: 0.041\n",
            "Epoch: 1840 | Train loss: 0.017 | Test loss: 0.039\n",
            "Epoch: 1860 | Train loss: 0.016 | Test loss: 0.038\n",
            "Epoch: 1880 | Train loss: 0.015 | Test loss: 0.036\n",
            "Epoch: 1900 | Train loss: 0.015 | Test loss: 0.035\n",
            "Epoch: 1920 | Train loss: 0.014 | Test loss: 0.033\n",
            "Epoch: 1940 | Train loss: 0.013 | Test loss: 0.031\n",
            "Epoch: 1960 | Train loss: 0.013 | Test loss: 0.030\n",
            "Epoch: 1980 | Train loss: 0.012 | Test loss: 0.028\n",
            "Epoch: 2000 | Train loss: 0.011 | Test loss: 0.026\n",
            "Epoch: 2020 | Train loss: 0.011 | Test loss: 0.025\n",
            "Epoch: 2040 | Train loss: 0.010 | Test loss: 0.023\n",
            "Epoch: 2060 | Train loss: 0.009 | Test loss: 0.022\n",
            "Epoch: 2080 | Train loss: 0.008 | Test loss: 0.020\n",
            "Epoch: 2100 | Train loss: 0.008 | Test loss: 0.018\n",
            "Epoch: 2120 | Train loss: 0.007 | Test loss: 0.017\n",
            "Epoch: 2140 | Train loss: 0.006 | Test loss: 0.015\n",
            "Epoch: 2160 | Train loss: 0.006 | Test loss: 0.013\n",
            "Epoch: 2180 | Train loss: 0.005 | Test loss: 0.012\n",
            "Epoch: 2200 | Train loss: 0.004 | Test loss: 0.010\n",
            "Epoch: 2220 | Train loss: 0.004 | Test loss: 0.009\n",
            "Epoch: 2240 | Train loss: 0.003 | Test loss: 0.007\n",
            "Epoch: 2260 | Train loss: 0.002 | Test loss: 0.005\n",
            "Epoch: 2280 | Train loss: 0.002 | Test loss: 0.004\n",
            "Epoch: 2300 | Train loss: 0.001 | Test loss: 0.002\n",
            "Epoch: 2320 | Train loss: 0.000 | Test loss: 0.001\n",
            "Epoch: 2340 | Train loss: 0.001 | Test loss: 0.000\n",
            "Epoch: 2360 | Train loss: 0.001 | Test loss: 0.000\n",
            "Epoch: 2380 | Train loss: 0.001 | Test loss: 0.000\n",
            "Epoch: 2400 | Train loss: 0.001 | Test loss: 0.000\n",
            "Epoch: 2420 | Train loss: 0.001 | Test loss: 0.000\n",
            "Epoch: 2440 | Train loss: 0.001 | Test loss: 0.000\n",
            "Epoch: 2460 | Train loss: 0.001 | Test loss: 0.000\n",
            "Epoch: 2480 | Train loss: 0.001 | Test loss: 0.000\n",
            "Epoch: 2500 | Train loss: 0.001 | Test loss: 0.000\n",
            "Epoch: 2520 | Train loss: 0.001 | Test loss: 0.000\n",
            "Epoch: 2540 | Train loss: 0.001 | Test loss: 0.000\n",
            "Epoch: 2560 | Train loss: 0.001 | Test loss: 0.000\n",
            "Epoch: 2580 | Train loss: 0.001 | Test loss: 0.000\n",
            "Epoch: 2600 | Train loss: 0.001 | Test loss: 0.000\n",
            "Epoch: 2620 | Train loss: 0.001 | Test loss: 0.000\n",
            "Epoch: 2640 | Train loss: 0.001 | Test loss: 0.000\n",
            "Epoch: 2660 | Train loss: 0.001 | Test loss: 0.000\n",
            "Epoch: 2680 | Train loss: 0.001 | Test loss: 0.000\n",
            "Epoch: 2700 | Train loss: 0.001 | Test loss: 0.000\n",
            "Epoch: 2720 | Train loss: 0.001 | Test loss: 0.000\n",
            "Epoch: 2740 | Train loss: 0.001 | Test loss: 0.000\n",
            "Epoch: 2760 | Train loss: 0.001 | Test loss: 0.000\n",
            "Epoch: 2780 | Train loss: 0.001 | Test loss: 0.000\n",
            "Epoch: 2800 | Train loss: 0.001 | Test loss: 0.000\n",
            "Epoch: 2820 | Train loss: 0.001 | Test loss: 0.000\n",
            "Epoch: 2840 | Train loss: 0.001 | Test loss: 0.000\n",
            "Epoch: 2860 | Train loss: 0.001 | Test loss: 0.000\n",
            "Epoch: 2880 | Train loss: 0.001 | Test loss: 0.000\n",
            "Epoch: 2900 | Train loss: 0.001 | Test loss: 0.000\n",
            "Epoch: 2920 | Train loss: 0.001 | Test loss: 0.000\n",
            "Epoch: 2940 | Train loss: 0.001 | Test loss: 0.000\n",
            "Epoch: 2960 | Train loss: 0.001 | Test loss: 0.000\n",
            "Epoch: 2980 | Train loss: 0.001 | Test loss: 0.000\n",
            "Epoch: 3000 | Train loss: 0.001 | Test loss: 0.000\n",
            "Epoch: 3020 | Train loss: 0.001 | Test loss: 0.000\n",
            "Epoch: 3040 | Train loss: 0.001 | Test loss: 0.000\n",
            "Epoch: 3060 | Train loss: 0.001 | Test loss: 0.000\n",
            "Epoch: 3080 | Train loss: 0.001 | Test loss: 0.000\n",
            "Epoch: 3100 | Train loss: 0.001 | Test loss: 0.000\n",
            "Epoch: 3120 | Train loss: 0.001 | Test loss: 0.000\n",
            "Epoch: 3140 | Train loss: 0.001 | Test loss: 0.000\n",
            "Epoch: 3160 | Train loss: 0.001 | Test loss: 0.000\n",
            "Epoch: 3180 | Train loss: 0.001 | Test loss: 0.000\n",
            "Epoch: 3200 | Train loss: 0.001 | Test loss: 0.000\n",
            "Epoch: 3220 | Train loss: 0.001 | Test loss: 0.000\n",
            "Epoch: 3240 | Train loss: 0.001 | Test loss: 0.000\n",
            "Epoch: 3260 | Train loss: 0.001 | Test loss: 0.000\n",
            "Epoch: 3280 | Train loss: 0.001 | Test loss: 0.000\n",
            "Epoch: 3300 | Train loss: 0.001 | Test loss: 0.000\n",
            "Epoch: 3320 | Train loss: 0.001 | Test loss: 0.000\n",
            "Epoch: 3340 | Train loss: 0.001 | Test loss: 0.000\n",
            "Epoch: 3360 | Train loss: 0.001 | Test loss: 0.000\n",
            "Epoch: 3380 | Train loss: 0.001 | Test loss: 0.000\n",
            "Epoch: 3400 | Train loss: 0.001 | Test loss: 0.000\n",
            "Epoch: 3420 | Train loss: 0.001 | Test loss: 0.000\n",
            "Epoch: 3440 | Train loss: 0.001 | Test loss: 0.000\n",
            "Epoch: 3460 | Train loss: 0.001 | Test loss: 0.000\n",
            "Epoch: 3480 | Train loss: 0.001 | Test loss: 0.000\n",
            "Epoch: 3500 | Train loss: 0.001 | Test loss: 0.000\n",
            "Epoch: 3520 | Train loss: 0.001 | Test loss: 0.000\n",
            "Epoch: 3540 | Train loss: 0.001 | Test loss: 0.000\n",
            "Epoch: 3560 | Train loss: 0.001 | Test loss: 0.000\n",
            "Epoch: 3580 | Train loss: 0.001 | Test loss: 0.000\n",
            "Epoch: 3600 | Train loss: 0.001 | Test loss: 0.000\n",
            "Epoch: 3620 | Train loss: 0.001 | Test loss: 0.000\n",
            "Epoch: 3640 | Train loss: 0.001 | Test loss: 0.000\n",
            "Epoch: 3660 | Train loss: 0.001 | Test loss: 0.000\n",
            "Epoch: 3680 | Train loss: 0.001 | Test loss: 0.000\n",
            "Epoch: 3700 | Train loss: 0.001 | Test loss: 0.000\n",
            "Epoch: 3720 | Train loss: 0.001 | Test loss: 0.000\n",
            "Epoch: 3740 | Train loss: 0.001 | Test loss: 0.000\n",
            "Epoch: 3760 | Train loss: 0.001 | Test loss: 0.000\n",
            "Epoch: 3780 | Train loss: 0.001 | Test loss: 0.000\n",
            "Epoch: 3800 | Train loss: 0.001 | Test loss: 0.000\n",
            "Epoch: 3820 | Train loss: 0.001 | Test loss: 0.000\n",
            "Epoch: 3840 | Train loss: 0.001 | Test loss: 0.000\n",
            "Epoch: 3860 | Train loss: 0.001 | Test loss: 0.000\n",
            "Epoch: 3880 | Train loss: 0.001 | Test loss: 0.000\n",
            "Epoch: 3900 | Train loss: 0.001 | Test loss: 0.000\n",
            "Epoch: 3920 | Train loss: 0.001 | Test loss: 0.000\n",
            "Epoch: 3940 | Train loss: 0.001 | Test loss: 0.000\n",
            "Epoch: 3960 | Train loss: 0.001 | Test loss: 0.000\n",
            "Epoch: 3980 | Train loss: 0.001 | Test loss: 0.000\n",
            "Epoch: 4000 | Train loss: 0.001 | Test loss: 0.000\n",
            "Epoch: 4020 | Train loss: 0.001 | Test loss: 0.000\n",
            "Epoch: 4040 | Train loss: 0.001 | Test loss: 0.000\n",
            "Epoch: 4060 | Train loss: 0.001 | Test loss: 0.000\n",
            "Epoch: 4080 | Train loss: 0.001 | Test loss: 0.000\n",
            "Epoch: 4100 | Train loss: 0.001 | Test loss: 0.000\n",
            "Epoch: 4120 | Train loss: 0.001 | Test loss: 0.000\n",
            "Epoch: 4140 | Train loss: 0.001 | Test loss: 0.000\n",
            "Epoch: 4160 | Train loss: 0.001 | Test loss: 0.000\n",
            "Epoch: 4180 | Train loss: 0.001 | Test loss: 0.000\n",
            "Epoch: 4200 | Train loss: 0.001 | Test loss: 0.000\n",
            "Epoch: 4220 | Train loss: 0.001 | Test loss: 0.000\n",
            "Epoch: 4240 | Train loss: 0.001 | Test loss: 0.000\n",
            "Epoch: 4260 | Train loss: 0.001 | Test loss: 0.000\n",
            "Epoch: 4280 | Train loss: 0.001 | Test loss: 0.000\n",
            "Epoch: 4300 | Train loss: 0.001 | Test loss: 0.000\n",
            "Epoch: 4320 | Train loss: 0.001 | Test loss: 0.000\n",
            "Epoch: 4340 | Train loss: 0.001 | Test loss: 0.000\n",
            "Epoch: 4360 | Train loss: 0.001 | Test loss: 0.000\n",
            "Epoch: 4380 | Train loss: 0.001 | Test loss: 0.000\n",
            "Epoch: 4400 | Train loss: 0.001 | Test loss: 0.000\n",
            "Epoch: 4420 | Train loss: 0.001 | Test loss: 0.000\n",
            "Epoch: 4440 | Train loss: 0.001 | Test loss: 0.000\n",
            "Epoch: 4460 | Train loss: 0.001 | Test loss: 0.000\n",
            "Epoch: 4480 | Train loss: 0.001 | Test loss: 0.000\n",
            "Epoch: 4500 | Train loss: 0.001 | Test loss: 0.000\n",
            "Epoch: 4520 | Train loss: 0.001 | Test loss: 0.000\n",
            "Epoch: 4540 | Train loss: 0.001 | Test loss: 0.000\n",
            "Epoch: 4560 | Train loss: 0.001 | Test loss: 0.000\n",
            "Epoch: 4580 | Train loss: 0.001 | Test loss: 0.000\n",
            "Epoch: 4600 | Train loss: 0.001 | Test loss: 0.000\n",
            "Epoch: 4620 | Train loss: 0.001 | Test loss: 0.000\n",
            "Epoch: 4640 | Train loss: 0.001 | Test loss: 0.000\n",
            "Epoch: 4660 | Train loss: 0.001 | Test loss: 0.000\n",
            "Epoch: 4680 | Train loss: 0.001 | Test loss: 0.000\n",
            "Epoch: 4700 | Train loss: 0.001 | Test loss: 0.000\n",
            "Epoch: 4720 | Train loss: 0.001 | Test loss: 0.000\n",
            "Epoch: 4740 | Train loss: 0.001 | Test loss: 0.000\n",
            "Epoch: 4760 | Train loss: 0.001 | Test loss: 0.000\n",
            "Epoch: 4780 | Train loss: 0.001 | Test loss: 0.000\n",
            "Epoch: 4800 | Train loss: 0.001 | Test loss: 0.000\n",
            "Epoch: 4820 | Train loss: 0.001 | Test loss: 0.000\n",
            "Epoch: 4840 | Train loss: 0.001 | Test loss: 0.000\n",
            "Epoch: 4860 | Train loss: 0.001 | Test loss: 0.000\n",
            "Epoch: 4880 | Train loss: 0.001 | Test loss: 0.000\n",
            "Epoch: 4900 | Train loss: 0.001 | Test loss: 0.000\n",
            "Epoch: 4920 | Train loss: 0.001 | Test loss: 0.000\n",
            "Epoch: 4940 | Train loss: 0.001 | Test loss: 0.000\n",
            "Epoch: 4960 | Train loss: 0.001 | Test loss: 0.000\n",
            "Epoch: 4980 | Train loss: 0.001 | Test loss: 0.000\n",
            "Epoch: 5000 | Train loss: 0.001 | Test loss: 0.000\n",
            "Epoch: 5020 | Train loss: 0.001 | Test loss: 0.000\n",
            "Epoch: 5040 | Train loss: 0.001 | Test loss: 0.000\n",
            "Epoch: 5060 | Train loss: 0.001 | Test loss: 0.000\n",
            "Epoch: 5080 | Train loss: 0.001 | Test loss: 0.000\n",
            "Epoch: 5100 | Train loss: 0.001 | Test loss: 0.000\n",
            "Epoch: 5120 | Train loss: 0.001 | Test loss: 0.000\n",
            "Epoch: 5140 | Train loss: 0.001 | Test loss: 0.000\n",
            "Epoch: 5160 | Train loss: 0.001 | Test loss: 0.000\n",
            "Epoch: 5180 | Train loss: 0.001 | Test loss: 0.000\n",
            "Epoch: 5200 | Train loss: 0.001 | Test loss: 0.000\n",
            "Epoch: 5220 | Train loss: 0.001 | Test loss: 0.000\n",
            "Epoch: 5240 | Train loss: 0.001 | Test loss: 0.000\n",
            "Epoch: 5260 | Train loss: 0.001 | Test loss: 0.000\n",
            "Epoch: 5280 | Train loss: 0.001 | Test loss: 0.000\n",
            "Epoch: 5300 | Train loss: 0.001 | Test loss: 0.000\n",
            "Epoch: 5320 | Train loss: 0.001 | Test loss: 0.000\n",
            "Epoch: 5340 | Train loss: 0.001 | Test loss: 0.000\n",
            "Epoch: 5360 | Train loss: 0.001 | Test loss: 0.000\n",
            "Epoch: 5380 | Train loss: 0.001 | Test loss: 0.000\n",
            "Epoch: 5400 | Train loss: 0.001 | Test loss: 0.000\n",
            "Epoch: 5420 | Train loss: 0.001 | Test loss: 0.000\n",
            "Epoch: 5440 | Train loss: 0.001 | Test loss: 0.000\n",
            "Epoch: 5460 | Train loss: 0.001 | Test loss: 0.000\n",
            "Epoch: 5480 | Train loss: 0.001 | Test loss: 0.000\n",
            "Epoch: 5500 | Train loss: 0.001 | Test loss: 0.000\n",
            "Epoch: 5520 | Train loss: 0.001 | Test loss: 0.000\n",
            "Epoch: 5540 | Train loss: 0.001 | Test loss: 0.000\n",
            "Epoch: 5560 | Train loss: 0.001 | Test loss: 0.000\n",
            "Epoch: 5580 | Train loss: 0.001 | Test loss: 0.000\n",
            "Epoch: 5600 | Train loss: 0.001 | Test loss: 0.000\n",
            "Epoch: 5620 | Train loss: 0.001 | Test loss: 0.000\n",
            "Epoch: 5640 | Train loss: 0.001 | Test loss: 0.000\n",
            "Epoch: 5660 | Train loss: 0.001 | Test loss: 0.000\n",
            "Epoch: 5680 | Train loss: 0.001 | Test loss: 0.000\n",
            "Epoch: 5700 | Train loss: 0.001 | Test loss: 0.000\n",
            "Epoch: 5720 | Train loss: 0.001 | Test loss: 0.000\n",
            "Epoch: 5740 | Train loss: 0.001 | Test loss: 0.000\n",
            "Epoch: 5760 | Train loss: 0.001 | Test loss: 0.000\n",
            "Epoch: 5780 | Train loss: 0.001 | Test loss: 0.000\n",
            "Epoch: 5800 | Train loss: 0.001 | Test loss: 0.000\n",
            "Epoch: 5820 | Train loss: 0.001 | Test loss: 0.000\n",
            "Epoch: 5840 | Train loss: 0.001 | Test loss: 0.000\n",
            "Epoch: 5860 | Train loss: 0.001 | Test loss: 0.000\n",
            "Epoch: 5880 | Train loss: 0.001 | Test loss: 0.000\n",
            "Epoch: 5900 | Train loss: 0.001 | Test loss: 0.000\n",
            "Epoch: 5920 | Train loss: 0.001 | Test loss: 0.000\n",
            "Epoch: 5940 | Train loss: 0.001 | Test loss: 0.000\n",
            "Epoch: 5960 | Train loss: 0.001 | Test loss: 0.000\n",
            "Epoch: 5980 | Train loss: 0.001 | Test loss: 0.000\n",
            "Epoch: 6000 | Train loss: 0.001 | Test loss: 0.000\n",
            "Epoch: 6020 | Train loss: 0.001 | Test loss: 0.000\n",
            "Epoch: 6040 | Train loss: 0.001 | Test loss: 0.000\n",
            "Epoch: 6060 | Train loss: 0.001 | Test loss: 0.000\n",
            "Epoch: 6080 | Train loss: 0.001 | Test loss: 0.000\n",
            "Epoch: 6100 | Train loss: 0.001 | Test loss: 0.000\n",
            "Epoch: 6120 | Train loss: 0.001 | Test loss: 0.000\n",
            "Epoch: 6140 | Train loss: 0.001 | Test loss: 0.000\n",
            "Epoch: 6160 | Train loss: 0.001 | Test loss: 0.000\n",
            "Epoch: 6180 | Train loss: 0.001 | Test loss: 0.000\n",
            "Epoch: 6200 | Train loss: 0.001 | Test loss: 0.000\n",
            "Epoch: 6220 | Train loss: 0.001 | Test loss: 0.000\n",
            "Epoch: 6240 | Train loss: 0.001 | Test loss: 0.000\n",
            "Epoch: 6260 | Train loss: 0.001 | Test loss: 0.000\n",
            "Epoch: 6280 | Train loss: 0.001 | Test loss: 0.000\n",
            "Epoch: 6300 | Train loss: 0.001 | Test loss: 0.000\n",
            "Epoch: 6320 | Train loss: 0.001 | Test loss: 0.000\n",
            "Epoch: 6340 | Train loss: 0.001 | Test loss: 0.000\n",
            "Epoch: 6360 | Train loss: 0.001 | Test loss: 0.000\n",
            "Epoch: 6380 | Train loss: 0.001 | Test loss: 0.000\n",
            "Epoch: 6400 | Train loss: 0.001 | Test loss: 0.000\n",
            "Epoch: 6420 | Train loss: 0.001 | Test loss: 0.000\n",
            "Epoch: 6440 | Train loss: 0.001 | Test loss: 0.000\n",
            "Epoch: 6460 | Train loss: 0.001 | Test loss: 0.000\n",
            "Epoch: 6480 | Train loss: 0.001 | Test loss: 0.000\n",
            "Epoch: 6500 | Train loss: 0.001 | Test loss: 0.000\n",
            "Epoch: 6520 | Train loss: 0.001 | Test loss: 0.000\n",
            "Epoch: 6540 | Train loss: 0.001 | Test loss: 0.000\n",
            "Epoch: 6560 | Train loss: 0.001 | Test loss: 0.000\n",
            "Epoch: 6580 | Train loss: 0.001 | Test loss: 0.000\n",
            "Epoch: 6600 | Train loss: 0.001 | Test loss: 0.000\n",
            "Epoch: 6620 | Train loss: 0.001 | Test loss: 0.000\n",
            "Epoch: 6640 | Train loss: 0.001 | Test loss: 0.000\n",
            "Epoch: 6660 | Train loss: 0.001 | Test loss: 0.000\n",
            "Epoch: 6680 | Train loss: 0.001 | Test loss: 0.000\n",
            "Epoch: 6700 | Train loss: 0.001 | Test loss: 0.000\n",
            "Epoch: 6720 | Train loss: 0.001 | Test loss: 0.000\n",
            "Epoch: 6740 | Train loss: 0.001 | Test loss: 0.000\n",
            "Epoch: 6760 | Train loss: 0.001 | Test loss: 0.000\n",
            "Epoch: 6780 | Train loss: 0.001 | Test loss: 0.000\n",
            "Epoch: 6800 | Train loss: 0.001 | Test loss: 0.000\n",
            "Epoch: 6820 | Train loss: 0.001 | Test loss: 0.000\n",
            "Epoch: 6840 | Train loss: 0.001 | Test loss: 0.000\n",
            "Epoch: 6860 | Train loss: 0.001 | Test loss: 0.000\n",
            "Epoch: 6880 | Train loss: 0.001 | Test loss: 0.000\n",
            "Epoch: 6900 | Train loss: 0.001 | Test loss: 0.000\n",
            "Epoch: 6920 | Train loss: 0.001 | Test loss: 0.000\n",
            "Epoch: 6940 | Train loss: 0.001 | Test loss: 0.000\n",
            "Epoch: 6960 | Train loss: 0.001 | Test loss: 0.000\n",
            "Epoch: 6980 | Train loss: 0.001 | Test loss: 0.000\n",
            "Epoch: 7000 | Train loss: 0.001 | Test loss: 0.000\n",
            "Epoch: 7020 | Train loss: 0.001 | Test loss: 0.000\n",
            "Epoch: 7040 | Train loss: 0.001 | Test loss: 0.000\n",
            "Epoch: 7060 | Train loss: 0.001 | Test loss: 0.000\n",
            "Epoch: 7080 | Train loss: 0.001 | Test loss: 0.000\n",
            "Epoch: 7100 | Train loss: 0.001 | Test loss: 0.000\n",
            "Epoch: 7120 | Train loss: 0.001 | Test loss: 0.000\n",
            "Epoch: 7140 | Train loss: 0.001 | Test loss: 0.000\n",
            "Epoch: 7160 | Train loss: 0.001 | Test loss: 0.000\n",
            "Epoch: 7180 | Train loss: 0.001 | Test loss: 0.000\n",
            "Epoch: 7200 | Train loss: 0.001 | Test loss: 0.000\n",
            "Epoch: 7220 | Train loss: 0.001 | Test loss: 0.000\n",
            "Epoch: 7240 | Train loss: 0.001 | Test loss: 0.000\n",
            "Epoch: 7260 | Train loss: 0.001 | Test loss: 0.000\n",
            "Epoch: 7280 | Train loss: 0.001 | Test loss: 0.000\n",
            "Epoch: 7300 | Train loss: 0.001 | Test loss: 0.000\n",
            "Epoch: 7320 | Train loss: 0.001 | Test loss: 0.000\n",
            "Epoch: 7340 | Train loss: 0.001 | Test loss: 0.000\n",
            "Epoch: 7360 | Train loss: 0.001 | Test loss: 0.000\n",
            "Epoch: 7380 | Train loss: 0.001 | Test loss: 0.000\n",
            "Epoch: 7400 | Train loss: 0.001 | Test loss: 0.000\n",
            "Epoch: 7420 | Train loss: 0.001 | Test loss: 0.000\n",
            "Epoch: 7440 | Train loss: 0.001 | Test loss: 0.000\n",
            "Epoch: 7460 | Train loss: 0.001 | Test loss: 0.000\n",
            "Epoch: 7480 | Train loss: 0.001 | Test loss: 0.000\n",
            "Epoch: 7500 | Train loss: 0.001 | Test loss: 0.000\n",
            "Epoch: 7520 | Train loss: 0.001 | Test loss: 0.000\n",
            "Epoch: 7540 | Train loss: 0.001 | Test loss: 0.000\n",
            "Epoch: 7560 | Train loss: 0.001 | Test loss: 0.000\n",
            "Epoch: 7580 | Train loss: 0.001 | Test loss: 0.000\n",
            "Epoch: 7600 | Train loss: 0.001 | Test loss: 0.000\n",
            "Epoch: 7620 | Train loss: 0.001 | Test loss: 0.000\n",
            "Epoch: 7640 | Train loss: 0.001 | Test loss: 0.000\n",
            "Epoch: 7660 | Train loss: 0.001 | Test loss: 0.000\n",
            "Epoch: 7680 | Train loss: 0.001 | Test loss: 0.000\n",
            "Epoch: 7700 | Train loss: 0.001 | Test loss: 0.000\n",
            "Epoch: 7720 | Train loss: 0.001 | Test loss: 0.000\n",
            "Epoch: 7740 | Train loss: 0.001 | Test loss: 0.000\n",
            "Epoch: 7760 | Train loss: 0.001 | Test loss: 0.000\n",
            "Epoch: 7780 | Train loss: 0.001 | Test loss: 0.000\n",
            "Epoch: 7800 | Train loss: 0.001 | Test loss: 0.000\n",
            "Epoch: 7820 | Train loss: 0.001 | Test loss: 0.000\n",
            "Epoch: 7840 | Train loss: 0.001 | Test loss: 0.000\n",
            "Epoch: 7860 | Train loss: 0.001 | Test loss: 0.000\n",
            "Epoch: 7880 | Train loss: 0.001 | Test loss: 0.000\n",
            "Epoch: 7900 | Train loss: 0.001 | Test loss: 0.000\n",
            "Epoch: 7920 | Train loss: 0.001 | Test loss: 0.000\n",
            "Epoch: 7940 | Train loss: 0.001 | Test loss: 0.000\n",
            "Epoch: 7960 | Train loss: 0.001 | Test loss: 0.000\n",
            "Epoch: 7980 | Train loss: 0.001 | Test loss: 0.000\n",
            "Epoch: 8000 | Train loss: 0.001 | Test loss: 0.000\n",
            "Epoch: 8020 | Train loss: 0.001 | Test loss: 0.000\n",
            "Epoch: 8040 | Train loss: 0.001 | Test loss: 0.000\n",
            "Epoch: 8060 | Train loss: 0.001 | Test loss: 0.000\n",
            "Epoch: 8080 | Train loss: 0.001 | Test loss: 0.000\n",
            "Epoch: 8100 | Train loss: 0.001 | Test loss: 0.000\n",
            "Epoch: 8120 | Train loss: 0.001 | Test loss: 0.000\n",
            "Epoch: 8140 | Train loss: 0.001 | Test loss: 0.000\n",
            "Epoch: 8160 | Train loss: 0.001 | Test loss: 0.000\n",
            "Epoch: 8180 | Train loss: 0.001 | Test loss: 0.000\n",
            "Epoch: 8200 | Train loss: 0.001 | Test loss: 0.000\n",
            "Epoch: 8220 | Train loss: 0.001 | Test loss: 0.000\n",
            "Epoch: 8240 | Train loss: 0.001 | Test loss: 0.000\n",
            "Epoch: 8260 | Train loss: 0.001 | Test loss: 0.000\n",
            "Epoch: 8280 | Train loss: 0.001 | Test loss: 0.000\n",
            "Epoch: 8300 | Train loss: 0.001 | Test loss: 0.000\n",
            "Epoch: 8320 | Train loss: 0.001 | Test loss: 0.000\n",
            "Epoch: 8340 | Train loss: 0.001 | Test loss: 0.000\n",
            "Epoch: 8360 | Train loss: 0.001 | Test loss: 0.000\n",
            "Epoch: 8380 | Train loss: 0.001 | Test loss: 0.000\n",
            "Epoch: 8400 | Train loss: 0.001 | Test loss: 0.000\n",
            "Epoch: 8420 | Train loss: 0.001 | Test loss: 0.000\n",
            "Epoch: 8440 | Train loss: 0.001 | Test loss: 0.000\n",
            "Epoch: 8460 | Train loss: 0.001 | Test loss: 0.000\n",
            "Epoch: 8480 | Train loss: 0.001 | Test loss: 0.000\n",
            "Epoch: 8500 | Train loss: 0.001 | Test loss: 0.000\n",
            "Epoch: 8520 | Train loss: 0.001 | Test loss: 0.000\n",
            "Epoch: 8540 | Train loss: 0.001 | Test loss: 0.000\n",
            "Epoch: 8560 | Train loss: 0.001 | Test loss: 0.000\n",
            "Epoch: 8580 | Train loss: 0.001 | Test loss: 0.000\n",
            "Epoch: 8600 | Train loss: 0.001 | Test loss: 0.000\n",
            "Epoch: 8620 | Train loss: 0.001 | Test loss: 0.000\n",
            "Epoch: 8640 | Train loss: 0.001 | Test loss: 0.000\n",
            "Epoch: 8660 | Train loss: 0.001 | Test loss: 0.000\n",
            "Epoch: 8680 | Train loss: 0.001 | Test loss: 0.000\n",
            "Epoch: 8700 | Train loss: 0.001 | Test loss: 0.000\n",
            "Epoch: 8720 | Train loss: 0.001 | Test loss: 0.000\n",
            "Epoch: 8740 | Train loss: 0.001 | Test loss: 0.000\n",
            "Epoch: 8760 | Train loss: 0.001 | Test loss: 0.000\n",
            "Epoch: 8780 | Train loss: 0.001 | Test loss: 0.000\n",
            "Epoch: 8800 | Train loss: 0.001 | Test loss: 0.000\n",
            "Epoch: 8820 | Train loss: 0.001 | Test loss: 0.000\n",
            "Epoch: 8840 | Train loss: 0.001 | Test loss: 0.000\n",
            "Epoch: 8860 | Train loss: 0.001 | Test loss: 0.000\n",
            "Epoch: 8880 | Train loss: 0.001 | Test loss: 0.000\n",
            "Epoch: 8900 | Train loss: 0.001 | Test loss: 0.000\n",
            "Epoch: 8920 | Train loss: 0.001 | Test loss: 0.000\n",
            "Epoch: 8940 | Train loss: 0.001 | Test loss: 0.000\n",
            "Epoch: 8960 | Train loss: 0.001 | Test loss: 0.000\n",
            "Epoch: 8980 | Train loss: 0.001 | Test loss: 0.000\n",
            "Epoch: 9000 | Train loss: 0.001 | Test loss: 0.000\n",
            "Epoch: 9020 | Train loss: 0.001 | Test loss: 0.000\n",
            "Epoch: 9040 | Train loss: 0.001 | Test loss: 0.000\n",
            "Epoch: 9060 | Train loss: 0.001 | Test loss: 0.000\n",
            "Epoch: 9080 | Train loss: 0.001 | Test loss: 0.000\n",
            "Epoch: 9100 | Train loss: 0.001 | Test loss: 0.000\n",
            "Epoch: 9120 | Train loss: 0.001 | Test loss: 0.000\n",
            "Epoch: 9140 | Train loss: 0.001 | Test loss: 0.000\n",
            "Epoch: 9160 | Train loss: 0.001 | Test loss: 0.000\n",
            "Epoch: 9180 | Train loss: 0.001 | Test loss: 0.000\n",
            "Epoch: 9200 | Train loss: 0.001 | Test loss: 0.000\n",
            "Epoch: 9220 | Train loss: 0.001 | Test loss: 0.000\n",
            "Epoch: 9240 | Train loss: 0.001 | Test loss: 0.000\n",
            "Epoch: 9260 | Train loss: 0.001 | Test loss: 0.000\n",
            "Epoch: 9280 | Train loss: 0.001 | Test loss: 0.000\n",
            "Epoch: 9300 | Train loss: 0.001 | Test loss: 0.000\n",
            "Epoch: 9320 | Train loss: 0.001 | Test loss: 0.000\n",
            "Epoch: 9340 | Train loss: 0.001 | Test loss: 0.000\n",
            "Epoch: 9360 | Train loss: 0.001 | Test loss: 0.000\n",
            "Epoch: 9380 | Train loss: 0.001 | Test loss: 0.000\n",
            "Epoch: 9400 | Train loss: 0.001 | Test loss: 0.000\n",
            "Epoch: 9420 | Train loss: 0.001 | Test loss: 0.000\n",
            "Epoch: 9440 | Train loss: 0.001 | Test loss: 0.000\n",
            "Epoch: 9460 | Train loss: 0.001 | Test loss: 0.000\n",
            "Epoch: 9480 | Train loss: 0.001 | Test loss: 0.000\n",
            "Epoch: 9500 | Train loss: 0.001 | Test loss: 0.000\n",
            "Epoch: 9520 | Train loss: 0.001 | Test loss: 0.000\n",
            "Epoch: 9540 | Train loss: 0.001 | Test loss: 0.000\n",
            "Epoch: 9560 | Train loss: 0.001 | Test loss: 0.000\n",
            "Epoch: 9580 | Train loss: 0.001 | Test loss: 0.000\n",
            "Epoch: 9600 | Train loss: 0.001 | Test loss: 0.000\n",
            "Epoch: 9620 | Train loss: 0.001 | Test loss: 0.000\n",
            "Epoch: 9640 | Train loss: 0.001 | Test loss: 0.000\n",
            "Epoch: 9660 | Train loss: 0.001 | Test loss: 0.000\n",
            "Epoch: 9680 | Train loss: 0.001 | Test loss: 0.000\n",
            "Epoch: 9700 | Train loss: 0.001 | Test loss: 0.000\n",
            "Epoch: 9720 | Train loss: 0.001 | Test loss: 0.000\n",
            "Epoch: 9740 | Train loss: 0.001 | Test loss: 0.000\n",
            "Epoch: 9760 | Train loss: 0.001 | Test loss: 0.000\n",
            "Epoch: 9780 | Train loss: 0.001 | Test loss: 0.000\n",
            "Epoch: 9800 | Train loss: 0.001 | Test loss: 0.000\n",
            "Epoch: 9820 | Train loss: 0.001 | Test loss: 0.000\n",
            "Epoch: 9840 | Train loss: 0.001 | Test loss: 0.000\n",
            "Epoch: 9860 | Train loss: 0.001 | Test loss: 0.000\n",
            "Epoch: 9880 | Train loss: 0.001 | Test loss: 0.000\n",
            "Epoch: 9900 | Train loss: 0.001 | Test loss: 0.000\n",
            "Epoch: 9920 | Train loss: 0.001 | Test loss: 0.000\n",
            "Epoch: 9940 | Train loss: 0.001 | Test loss: 0.000\n",
            "Epoch: 9960 | Train loss: 0.001 | Test loss: 0.000\n",
            "Epoch: 9980 | Train loss: 0.001 | Test loss: 0.000\n"
          ]
        }
      ],
      "source": [
        "torch.manual_seed(42)\n",
        "\n",
        "# Training loop\n",
        "\n",
        "# Train model for 300 epochs\n",
        "epochs = 10000\n",
        "\n",
        "# Send data to target device\n",
        "X_train = X_train.to(device)\n",
        "X_test = X_test.to(device)\n",
        "y_train = y_train.to(device)\n",
        "y_test = y_test.to(device)\n",
        "\n",
        "\n",
        "train_loss_values = []\n",
        "test_loss_values = []\n",
        "epochs_cnt = []\n",
        "\n",
        "for epoch in range(epochs):\n",
        "  ### Training\n",
        "\n",
        "  # Put model in train mode\n",
        "  LR_module_1.train()\n",
        "\n",
        "  # 1. Forward pass\n",
        "  y_pred = LR_module_1(X_train)\n",
        "\n",
        "  # 2. Calculate loss\n",
        "  loss = loss_f(y_pred, y_train)\n",
        "\n",
        "  # 3. Zero gradients\n",
        "  opt.zero_grad()\n",
        "\n",
        "  # 4. Backpropagation\n",
        "  loss.backward()\n",
        "\n",
        "  # 5. Step the optimizer\n",
        "  opt.step()\n",
        "\n",
        "  ### Perform testing every 20 epochs\n",
        "  if epoch % 20 == 0:\n",
        "    \n",
        "    # Put model in evaluation mode and setup inference context \n",
        "    LR_module_1.eval()\n",
        "    #with torch.inference_mode():\n",
        "    with torch.no_grad():\n",
        "      # 1. Forward pass\n",
        "      test_pred = LR_module_1(X_test)\n",
        "      # 2. Calculate test loss\n",
        "      test_loss = loss_f(test_pred, y_test.type(torch.float))\n",
        "      # Print out what's happening\n",
        "      epochs_cnt.append(epoch)\n",
        "      train_loss_values.append(loss.detach().numpy())\n",
        "      test_loss_values.append(test_loss.detach().numpy())\n",
        "      \n",
        "      print(f\"Epoch: {epoch} | Train loss: {loss:.3f} | Test loss: {test_loss:.3f}\")"
      ]
    },
    {
      "cell_type": "markdown",
      "metadata": {
        "id": "x4j4TM18jwa7"
      },
      "source": [
        "## 4. Make predictions with the trained model on the test data.\n",
        "  * Visualize these predictions against the original training and testing data (**note:** you may need to make sure the predictions are *not* on the GPU if you want to use non-CUDA-enabled libraries such as matplotlib to plot)."
      ]
    },
    {
      "cell_type": "code",
      "execution_count": 12,
      "metadata": {
        "id": "bbMPK5Qjjyx_"
      },
      "outputs": [
        {
          "name": "stdout",
          "output_type": "stream",
          "text": [
            "OrderedDict([('weights', tensor([0.3007])), ('bias', tensor([0.9003]))])\n",
            "0.3  ,  0.9\n"
          ]
        }
      ],
      "source": [
        "# Make predictions with the model\n",
        "print(LR_module_1.state_dict())\n",
        "print(weight, \" , \", bias)"
      ]
    },
    {
      "cell_type": "code",
      "execution_count": 13,
      "metadata": {},
      "outputs": [
        {
          "data": {
            "image/png": "[encoded data removed]",
            "text/plain": [
              "<Figure size 640x480 with 1 Axes>"
            ]
          },
          "metadata": {},
          "output_type": "display_data"
        }
      ],
      "source": [
        "# Plot the loss curves\n",
        "plt.plot(epochs_cnt, train_loss_values, label=\"Train loss\")\n",
        "plt.plot(epochs_cnt, test_loss_values, label=\"Test loss\")\n",
        "plt.title(\"Training and test loss curves\")\n",
        "plt.ylabel(\"Loss\")\n",
        "plt.xlabel(\"Epochs\")\n",
        "plt.legend();"
      ]
    },
    {
      "cell_type": "code",
      "execution_count": 14,
      "metadata": {
        "id": "K3BdmQaDpFo8"
      },
      "outputs": [
        {
          "data": {
            "image/png": "[encoded data removed]",
            "text/plain": [
              "<Figure size 800x800 with 1 Axes>"
            ]
          },
          "metadata": {},
          "output_type": "display_data"
        }
      ],
      "source": [
        "# Plot the predictions (these may need to be on a specific device)\n",
        "LR_module_1.eval()\n",
        "\n",
        "with torch.inference_mode():\n",
        "    y_preds = LR_module_1(X_test)\n",
        "\n",
        "plot_preds(predictions=y_preds)"
      ]
    },
    {
      "cell_type": "markdown",
      "metadata": {
        "id": "s2OnlMWKjzX8"
      },
      "source": [
        "## 5. Save your trained model's `state_dict()` to file.\n",
        "  * Create a new instance of your model class you made in 2. and load in the `state_dict()` you just saved to it.\n",
        "  * Perform predictions on your test data with the loaded model and confirm they match the original model predictions from 4."
      ]
    },
    {
      "cell_type": "code",
      "execution_count": 20,
      "metadata": {
        "id": "hgxhgD14qr-i"
      },
      "outputs": [
        {
          "name": "stdout",
          "output_type": "stream",
          "text": [
            "saving Model to: C:\\Users\\dtimo\\Documents\\GitHub\\pytorch-deep-learning\\models\\01_pytorch_workflow_model_ex1.pth\n"
          ]
        }
      ],
      "source": [
        "from pathlib import Path\n",
        "\n",
        "# 1. Create models directory \n",
        "MODEL_PATH = Path(\"C:\\\\Users\\\\dtimo\\\\Documents\\\\GitHub\\\\pytorch-deep-learning\\\\models\")\n",
        "MODEL_PATH.mkdir(parents=True, exist_ok=True)\n",
        "\n",
        "# 2. Create model save path \n",
        "MODEL_NAME = \"01_pytorch_workflow_model_ex1.pth\"\n",
        "MODEL_SAVE_PATH = MODEL_PATH / MODEL_NAME\n",
        "\n",
        "# 3. Save the model state dict\n",
        "print(f\"saving Model to: {MODEL_SAVE_PATH}\")\n",
        "torch.save(obj=LR_module_1.state_dict(),\n",
        "           f=MODEL_SAVE_PATH)"
      ]
    },
    {
      "cell_type": "code",
      "execution_count": 21,
      "metadata": {
        "id": "P9vTgiLRrJ7T"
      },
      "outputs": [
        {
          "name": "stdout",
          "output_type": "stream",
          "text": [
            "Loaded model:\n",
            "LinearRegressionModel()\n",
            "Model on device:\n",
            "cpu\n"
          ]
        }
      ],
      "source": [
        "# Create new instance of model and load saved state dict (make sure to put it on the target device)\n",
        "loaded_model = LinearRegressionModel()\n",
        "\n",
        "loaded_model.load_state_dict(torch.load(MODEL_SAVE_PATH))\n",
        "\n",
        "loaded_model.to(device)\n",
        "\n",
        "print(f\"Loaded model:\\n{loaded_model}\")\n",
        "print(f\"Model on device:\\n{next(loaded_model.parameters()).device}\")"
      ]
    },
    {
      "cell_type": "code",
      "execution_count": 22,
      "metadata": {
        "id": "8UGX3VebrVtI"
      },
      "outputs": [
        {
          "data": {
            "text/plain": [
              "tensor([True, True, True, True, True, True, True, True, True, True, True, True,\n",
              "        True, True, True, True, True, True, True, True])"
            ]
          },
          "execution_count": 22,
          "metadata": {},
          "output_type": "execute_result"
        }
      ],
      "source": [
        "# Make predictions with loaded model and compare them to the previous\n",
        "loaded_model.eval()\n",
        "with torch.inference_mode():\n",
        "    loaded_model_preds = loaded_model(X_test)\n",
        "    \n",
        "y_preds == loaded_model_preds"
      ]
    }
  ],
  "metadata": {
    "accelerator": "GPU",
    "colab": {
      "authorship_tag": "ABX9TyNYzatJtFkfUqqdiR6rYwVL",
      "collapsed_sections": [],
      "include_colab_link": true,
      "name": "01_pytorch_workflow_exercises.ipynb",
      "provenance": []
    },
    "kernelspec": {
      "display_name": "Python 3",
      "name": "python3"
    },
    "language_info": {
      "codemirror_mode": {
        "name": "ipython",
        "version": 3
      },
      "file_extension": ".py",
      "mimetype": "text/x-python",
      "name": "python",
      "nbconvert_exporter": "python",
      "pygments_lexer": "ipython3",
      "version": "3.9.6"
    }
  },
  "nbformat": 4,
  "nbformat_minor": 0
}
